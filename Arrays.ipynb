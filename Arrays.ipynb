{
 "cells": [
  {
   "attachments": {},
   "cell_type": "markdown",
   "metadata": {},
   "source": [
    "### The Insertion-Sort algorithm\n",
    "\n",
    "![Insert-Sort](images\\Insertion-Sort.png)"
   ]
  },
  {
   "cell_type": "markdown",
   "metadata": {},
   "source": [
    "#### [75. Sort Colors](https://leetcode.com/problems/sort-colors/)\n",
    "\n",
    "Given an array nums with n objects colored red, white, or blue, sort them in-place so that objects of the same color are adjacent, with the colors in the order red, white, and blue. <br>\n",
    "We will use the integers 0, 1, and 2 to represent the color red, white, and blue, respectively.<br>\n",
    "You must solve this problem without using the library's sort function. <br>"
   ]
  },
  {
   "cell_type": "code",
   "execution_count": 5,
   "metadata": {},
   "outputs": [
    {
     "name": "stdout",
     "output_type": "stream",
     "text": [
      "iiii 1\n",
      "0 [2, 0, 1, 1, 0, 2, 1]\n",
      "iiii 2\n",
      "1 [0, 2, 1, 1, 0, 2, 1]\n",
      "iiii 3\n",
      "2 [0, 1, 2, 1, 0, 2, 1]\n",
      "iiii 4\n",
      "3 [0, 1, 1, 2, 0, 2, 1]\n",
      "2 [0, 1, 1, 2, 2, 2, 1]\n",
      "1 [0, 1, 1, 1, 2, 2, 1]\n",
      "iiii 5\n",
      "iiii 6\n",
      "5 [0, 0, 1, 1, 2, 2, 1]\n",
      "4 [0, 0, 1, 1, 2, 2, 2]\n"
     ]
    },
    {
     "data": {
      "text/plain": [
       "[0, 0, 1, 1, 1, 2, 2]"
      ]
     },
     "execution_count": 5,
     "metadata": {},
     "output_type": "execute_result"
    }
   ],
   "source": [
    "#With Insert-Sort Algorithm\n",
    "# Time complexity: O(n^2)\n",
    "# Space complexity: O(1)\n",
    "\n",
    "nums=[2, 0, 1, 1, 0, 2, 1]\n",
    "#loop through the array\n",
    "for i in range(1,len(nums)):\n",
    "    print('iiii',i)\n",
    "    #get the current element and its color\n",
    "    curr=nums[i]\n",
    "    color = nums[i]\n",
    "\n",
    "    #loop through the sorted portion of the array\n",
    "    j=i-1\n",
    "    while j>=0 and nums[j]>color:\n",
    "        # shift the elements to thr right to make room for the current element\n",
    "        print(j,nums)\n",
    "        nums[j+1]=nums[j]\n",
    "        j-=1\n",
    "    \n",
    "    nums[j+1] = curr\n",
    "\n",
    "#Two-Pass Approach\n",
    "#count the numbers of 0s,1s,2s\n",
    "counts=[0,0,0]\n",
    "for num in nums:\n",
    "    counts[nums]+=1\n",
    "\n",
    "# overwrite the array with correct number of 0s,1s,2s\n",
    "i=0\n",
    "for color,count in enumerate(counts):\n",
    "    for _ in range(count):\n",
    "        nums[i]=color\n",
    "        i+=1\n",
    "\n",
    "\n",
    "\n"
   ]
  },
  {
   "cell_type": "code",
   "execution_count": null,
   "metadata": {},
   "outputs": [],
   "source": []
  }
 ],
 "metadata": {
  "kernelspec": {
   "display_name": "dlenv",
   "language": "python",
   "name": "dlenv"
  },
  "language_info": {
   "codemirror_mode": {
    "name": "ipython",
    "version": 3
   },
   "file_extension": ".py",
   "mimetype": "text/x-python",
   "name": "python",
   "nbconvert_exporter": "python",
   "pygments_lexer": "ipython3",
   "version": "3.9.5"
  },
  "orig_nbformat": 4
 },
 "nbformat": 4,
 "nbformat_minor": 2
}
