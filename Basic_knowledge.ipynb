{
 "cells": [
  {
   "attachments": {},
   "cell_type": "markdown",
   "metadata": {},
   "source": [
    "# Data Strucuture\n",
    "#### Public, protected , private demo\n"
   ]
  },
  {
   "cell_type": "code",
   "execution_count": null,
   "metadata": {},
   "outputs": [],
   "source": [
    "# Public method\n",
    "class MyClass:\n",
    "    def __init__(self):\n",
    "        self.public_variable = 'Public'\n",
    "    \n",
    "    def public_method(self):\n",
    "        print('Public method')\n",
    "\n",
    "obj = MyClass()\n",
    "print(obj.public_variable)  # Output: 'Public'\n",
    "obj.public_method()        # Output: 'Public method'\n",
    "\n",
    "# Protected method\n",
    "class MyClass:\n",
    "    def __init__(self):\n",
    "        self._protected_variable = 'Protected'\n",
    "    \n",
    "    def _protected_method(self):\n",
    "        print('Protected method')\n",
    "\n",
    "obj = MyClass()\n",
    "print(obj._protected_variable)  # Output: 'Protected'\n",
    "obj._protected_method()        # Output: 'Protected method'\n",
    "\n",
    "# Private method\n",
    "class MyClass:\n",
    "    def __init__(self):\n",
    "        self.__private_variable = 'Private'\n",
    "    \n",
    "    def __private_method(self):\n",
    "        print('Private method')\n",
    "\n",
    "obj = MyClass()\n",
    "print(obj.__private_variable)  # AttributeError: 'MyClass' object has no attribute '__private_variable'\n",
    "obj.__private_method()        # AttributeError: 'MyClass' object has no attribute '__private_method'\n"
   ]
  },
  {
   "cell_type": "markdown",
   "metadata": {},
   "source": []
  },
  {
   "cell_type": "markdown",
   "metadata": {},
   "source": []
  }
 ],
 "metadata": {
  "language_info": {
   "name": "python"
  },
  "orig_nbformat": 4
 },
 "nbformat": 4,
 "nbformat_minor": 2
}
